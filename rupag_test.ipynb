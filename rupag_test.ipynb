{
 "cells": [
  {
   "cell_type": "code",
   "execution_count": 1,
   "metadata": {},
   "outputs": [],
   "source": [
    "import pyautogui as pag\n",
    "import numpy as np\n",
    "import time\n",
    "import os\n",
    "import subprocess\n",
    "import datetime\n",
    "import calendar\n",
    "import pandas as pd\n",
    "import math"
   ]
  },
  {
   "cell_type": "code",
   "execution_count": 2,
   "metadata": {},
   "outputs": [],
   "source": [
    "class Car:\n",
    "    weight = 4000\n",
    "    num_wheels = 4\n",
    "    \n",
    "    def __init__(self, car_name=\"NoName\"):\n",
    "        self.name = car_name\n",
    "    \n",
    "    def calc_weight_per_wheel(self):\n",
    "        return self.weight / self.num_wheels"
   ]
  },
  {
   "cell_type": "code",
   "execution_count": 3,
   "metadata": {},
   "outputs": [
    {
     "data": {
      "text/plain": [
       "4"
      ]
     },
     "execution_count": 3,
     "metadata": {},
     "output_type": "execute_result"
    }
   ],
   "source": [
    "my_car = Car()\n",
    "my_car.num_wheels"
   ]
  },
  {
   "cell_type": "code",
   "execution_count": 4,
   "metadata": {},
   "outputs": [
    {
     "data": {
      "text/plain": [
       "1000.0"
      ]
     },
     "execution_count": 4,
     "metadata": {},
     "output_type": "execute_result"
    }
   ],
   "source": [
    "my_car.calc_weight_per_wheel()"
   ]
  },
  {
   "cell_type": "code",
   "execution_count": 5,
   "metadata": {},
   "outputs": [
    {
     "data": {
      "text/plain": [
       "'NoName'"
      ]
     },
     "execution_count": 5,
     "metadata": {},
     "output_type": "execute_result"
    }
   ],
   "source": [
    "default_car = Car()\n",
    "default_car.name"
   ]
  },
  {
   "cell_type": "code",
   "execution_count": 6,
   "metadata": {},
   "outputs": [
    {
     "data": {
      "text/plain": [
       "'DeLorean'"
      ]
     },
     "execution_count": 6,
     "metadata": {},
     "output_type": "execute_result"
    }
   ],
   "source": [
    "my_car = Car('DeLorean')\n",
    "my_car.name"
   ]
  },
  {
   "cell_type": "code",
   "execution_count": 7,
   "metadata": {},
   "outputs": [],
   "source": [
    "class Triangle:\n",
    "    num_tri = 0\n",
    "    \n",
    "    def __init__(self, base=0, height=0):\n",
    "        self.base = base\n",
    "        self.height = height\n",
    "        Triangle.num_tri += 1\n",
    "        \n",
    "    def find_area(self):\n",
    "        b = self.base\n",
    "        h = self.height\n",
    "        return b * h / 2.0"
   ]
  },
  {
   "cell_type": "code",
   "execution_count": 8,
   "metadata": {},
   "outputs": [
    {
     "data": {
      "text/plain": [
       "0.5"
      ]
     },
     "execution_count": 8,
     "metadata": {},
     "output_type": "execute_result"
    }
   ],
   "source": [
    "t1 = Triangle(1, 1)\n",
    "t1.find_area()"
   ]
  },
  {
   "cell_type": "code",
   "execution_count": 9,
   "metadata": {},
   "outputs": [
    {
     "data": {
      "text/plain": [
       "1"
      ]
     },
     "execution_count": 9,
     "metadata": {},
     "output_type": "execute_result"
    }
   ],
   "source": [
    "Triangle.num_tri"
   ]
  },
  {
   "cell_type": "code",
   "execution_count": 10,
   "metadata": {},
   "outputs": [
    {
     "data": {
      "text/plain": [
       "2"
      ]
     },
     "execution_count": 10,
     "metadata": {},
     "output_type": "execute_result"
    }
   ],
   "source": [
    "t2 = Triangle(2, 2)\n",
    "Triangle.num_tri"
   ]
  },
  {
   "cell_type": "code",
   "execution_count": 11,
   "metadata": {},
   "outputs": [
    {
     "data": {
      "text/plain": [
       "3"
      ]
     },
     "execution_count": 11,
     "metadata": {},
     "output_type": "execute_result"
    }
   ],
   "source": [
    "t3 = Triangle(3, 5)\n",
    "Triangle.num_tri"
   ]
  },
  {
   "cell_type": "code",
   "execution_count": 276,
   "metadata": {},
   "outputs": [],
   "source": [
    "class Autogui:\n",
    "    '''\n",
    "    \"自動化機能まとめ\"\n",
    "\n",
    "    '''\n",
    "    \n",
    "    # 初期化\n",
    "    def __init__(self, x=100, y=100, duration=0.2, interval=0.2, comment='',\n",
    "                 write='', hk1='', hk2='', hk3='', hk4='', app='', path=''):\n",
    "        self.x = x\n",
    "        self.y = y\n",
    "        self.duration = duration\n",
    "        self.interval = interval\n",
    "        self.comment = comment     ####\n",
    "        self.write = write\n",
    "        self.hk1 = hk1\n",
    "        self.hk2 = hk2\n",
    "        self.hk3 = hk3\n",
    "        self.hk4 = hk4\n",
    "        self.app = app             ####\n",
    "        self.path = path\n",
    "\n",
    "    # マウス・移動\n",
    "    def move(self):\n",
    "        print('%20s'%('pointer move |'), f'{self.x, self.y}')\n",
    "        time.sleep(self.interval)\n",
    "        pag.moveTo(self.x, self.y, duration=self.duration)\n",
    "\n",
    "    # マウス・クリック\n",
    "    def click(self):\n",
    "        print('%20s'%('click left |'), f'{self.x, self.y}')\n",
    "        time.sleep(self.interval)\n",
    "        pag.click(self.x, self.y, duration=self.duration)\n",
    "    \n",
    "    # キーボード・入力（単独押し）\n",
    "    def keybord(self):\n",
    "        print('%20s'%('keybord |'), f'{self.write}')\n",
    "        time.sleep(self.interval)\n",
    "        pag.typewrite(self.write, 0.005)\n",
    "\n",
    "    # キーボード・ホットキー（同時押し）\n",
    "    def hotkey(self):\n",
    "        print('%20s'%('hotkey 1-4 |'), f'{self.hk1},', f'{self.hk2},'\n",
    "              f'{self.hk3},', f'{self.hk4}')\n",
    "        time.sleep(self.interval)\n",
    "        pag.hotkey(self.hk1, self.hk2, self.hk3, self.hk4)\n",
    "\n",
    "    # アプリケーション実行\n",
    "    def do_exe(self):\n",
    "        print('%20s'%('path |'), f'{self.path}')\n",
    "        runroop = subprocess.Popen(f\"{self.path}\", shell=True)\n",
    "\n",
    "    # ディレイ・マウスグルグル\n",
    "    def wait(self):\n",
    "        print('%20s'%('Wait |'), self.interval, 'sec')\n",
    "        r, fai, delta, lr, frequency = (150, -90, 45, 1, 0.1)    # 固定\n",
    "        c_x, c_y = (400, 300)      # サークル中心 X･Y\n",
    "        t1s = time.time()    \n",
    "        while time.time()-t1s <= self.interval:\n",
    "            for i in range(2*int(360/delta)+1):\n",
    "                pag.moveTo(r*math.cos(math.radians(fai+delta*i*lr))+c_x,\n",
    "                           r*math.sin(math.radians(fai+delta*i*lr))+c_y,\n",
    "                           duration=0.05)\n",
    "            time.sleep(1)\n",
    "        pag.moveTo(c_x, c_y-150, duration=0.05)\n",
    "\n",
    "    # ディレイ・画像反応\n",
    "    def delay(self):\n",
    "        None\n",
    "\n",
    "    # ディレイ・プログレッシブバー\n",
    "    def pbar(self):\n",
    "        for i in range(0, 10):\n",
    "            if i != 9:\n",
    "                pro_bar1 = ('===' * (i)) + '==>'\n",
    "            else:\n",
    "                pro_bar1 = ('===' * (i+1))\n",
    "            pro_bar2 = (' - '*(10-(i+1)))\n",
    "            print('\\r   [%s%s] %3d /%3d sec  '% (pro_bar1, pro_bar2,\n",
    "                                                 int((i+1)*(self.interval/10)),\n",
    "                                                 self.interval), end='')\n",
    "            time.sleep(self.interval/10)\n",
    "        print('')"
   ]
  },
  {
   "cell_type": "code",
   "execution_count": 289,
   "metadata": {},
   "outputs": [],
   "source": [
    "gui0 = Autogui(interval=1, comment='7')\n",
    "gui1 = Autogui(500, 500, comment='1')\n",
    "gui2 = Autogui(500, 600, comment='2')\n",
    "gui3 = Autogui(600, 500, comment='3')\n",
    "gui4 = Autogui(600, 600, comment='4')\n",
    "gui5 = Autogui(700, 500, comment='5')\n",
    "gui6 = Autogui(700, 600, comment='6')\n",
    "gui7 = Autogui(700, 600, comment='7')\n",
    "gui8 = Autogui(app='Google chrome',\n",
    "               path='C:\\Program Files\\Google\\Chrome\\Application\\chrome.exe',\n",
    "               comment='7')\n",
    "gui9 = Autogui(interval=3, comment='10')\n",
    "gui10 = Autogui(hk1='Altleft', hk2='f4', comment='8')\n",
    "gui11 = Autogui(700, 600, comment='11')\n",
    "gui12 = Autogui(write='qwertyuiop', comment='9')"
   ]
  },
  {
   "cell_type": "code",
   "execution_count": 290,
   "metadata": {
    "scrolled": true
   },
   "outputs": [
    {
     "name": "stdout",
     "output_type": "stream",
     "text": [
      "   [==============================]   1 /  1 sec  \n",
      "      pointer move | (500, 500)\n",
      "      pointer move | (500, 600)\n",
      "      pointer move | (600, 500)\n",
      "      pointer move | (600, 600)\n",
      "      pointer move | (700, 500)\n",
      "      pointer move | (700, 600)\n",
      "        click left | (700, 600)\n",
      "              path | C:\\Program Files\\Google\\Chrome\\Application\\chrome.exe\n",
      "              Wait | 3 sec\n",
      "        hotkey 1-4 | Altleft, f4,, \n",
      "        click left | (700, 600)\n",
      "           keybord | qwertyuiop\n"
     ]
    }
   ],
   "source": [
    "gui0.pbar()\n",
    "gui1.move()\n",
    "gui2.move()\n",
    "gui3.move()\n",
    "gui4.move()\n",
    "gui5.move()\n",
    "gui6.move()\n",
    "gui7.click()\n",
    "gui8.do_exe()\n",
    "gui9.wait()\n",
    "gui10.hotkey()\n",
    "gui11.click()\n",
    "gui12.keybord()"
   ]
  },
  {
   "cell_type": "code",
   "execution_count": 286,
   "metadata": {},
   "outputs": [],
   "source": [
    "# キーボード・入力（単独押し）\n",
    "def write():\n",
    "    time.sleep(2)\n",
    "    pag.click(400, 300, duration=0.5)\n",
    "    pag.click(400, 300, duration=0.5)\n",
    "    pag.typewrite('qwer', 0.005)"
   ]
  },
  {
   "cell_type": "code",
   "execution_count": 184,
   "metadata": {},
   "outputs": [],
   "source": [
    "write()"
   ]
  },
  {
   "cell_type": "code",
   "execution_count": 155,
   "metadata": {},
   "outputs": [],
   "source": [
    "# Active実行\n",
    "def pa_active():\n",
    "    t_limit = 10\n",
    "    print('    Wait time :', t_limit, 'sec')\n",
    "    r, fai, delta, lr, frequency = (150, -90, 45, 1, 0.1)    # 固定\n",
    "    c_x, c_y = (400, 300)      # サークル中心 X･Y\n",
    "    t1s = time.time()    \n",
    "    while time.time()-t1s <= t_limit:\n",
    "        for i in range(2*int(360/delta)+1):\n",
    "            pag.moveTo(r*math.cos(math.radians(fai+delta*i*lr))+c_x,\n",
    "                       r*math.sin(math.radians(fai+delta*i*lr))+c_y, duration=0.05)\n",
    "        time.sleep(1)\n",
    "    pag.moveTo(c_x, c_y-150, duration=0.05)"
   ]
  },
  {
   "cell_type": "code",
   "execution_count": 156,
   "metadata": {},
   "outputs": [
    {
     "name": "stdout",
     "output_type": "stream",
     "text": [
      "    Wait time : 10 sec\n"
     ]
    }
   ],
   "source": [
    "pa_active()"
   ]
  },
  {
   "cell_type": "code",
   "execution_count": null,
   "metadata": {},
   "outputs": [],
   "source": [
    "pa_gyro()"
   ]
  },
  {
   "cell_type": "code",
   "execution_count": null,
   "metadata": {},
   "outputs": [],
   "source": [
    "# アプリケーション実行\n",
    "def do_exe(appname, apppath):\n",
    "    start = time.time()\n",
    "    print('         Application is   \"', appname, '\"')\n",
    "    print(\"         --> \", f\"{apppath}\")\n",
    "    print(\"         - Start time  :\", datetime.datetime.now().strftime(\"%Y/%m/%d %H:%M:%S\"))\n",
    "    runroop = subprocess.Popen(f\"{apppath}\", shell=True)\n",
    "    print(\"         - End time    :\", datetime.datetime.now().strftime(\"%Y/%m/%d %H:%M:%S\"))\n",
    "    print(\"         - Total time  : %.3f sec\" % (time.time()-start))"
   ]
  },
  {
   "cell_type": "code",
   "execution_count": null,
   "metadata": {},
   "outputs": [],
   "source": [
    "app_name = \"Google chrome\"\n",
    "app_path = r\"C:\\Program Files\\Google\\Chrome\\Application\\chrome.exe\"\n",
    "do_exe(app_name, app_path)"
   ]
  },
  {
   "cell_type": "code",
   "execution_count": null,
   "metadata": {},
   "outputs": [],
   "source": [
    "pi = 3.14159265758979323846264338\n",
    "#今回は引数に数値を代入した変数を渡します。\n",
    "print('%.1f'%(pi)) #小数点以下1位\n",
    "print('%.2f'%(pi)) #小数点以下1位\n",
    "print('%.3f'%(pi)) #小数点以下1位"
   ]
  },
  {
   "cell_type": "code",
   "execution_count": null,
   "metadata": {},
   "outputs": [],
   "source": [
    "path = \"C:\\\\Program Files\\Google\\\\Chrome\\Application\\chrome.exe\"\n",
    "\n",
    "app_path = r\"C:\\Program Files\\Google\\Chrome\\Application\\chrome.exe\"\n",
    "\n",
    "app_path = fr\"{app_path}\"\n",
    "app_path2 = f\"{app_path}\"\n",
    "app_path3 = app_path\n",
    "\n",
    "print(app_path)\n",
    "print(app_path2)\n",
    "print(app_path3)\n",
    "print(\"C:\\\\Program Files\\\\Google\\\\Chrome\\\\Application\\\\chrome.exe\")"
   ]
  },
  {
   "cell_type": "code",
   "execution_count": null,
   "metadata": {},
   "outputs": [],
   "source": [
    "print(\"インストール先は c:\\\\code\\\\python\\\\bin です\")\n",
    "\n",
    "print(r\"インストール先は c:\\code\\\\python\\bin です\")"
   ]
  },
  {
   "cell_type": "code",
   "execution_count": null,
   "metadata": {},
   "outputs": [],
   "source": []
  }
 ],
 "metadata": {
  "kernelspec": {
   "display_name": "Python38",
   "language": "python",
   "name": "python38"
  },
  "language_info": {
   "codemirror_mode": {
    "name": "ipython",
    "version": 3
   },
   "file_extension": ".py",
   "mimetype": "text/x-python",
   "name": "python",
   "nbconvert_exporter": "python",
   "pygments_lexer": "ipython3",
   "version": "3.8.5"
  }
 },
 "nbformat": 4,
 "nbformat_minor": 4
}
