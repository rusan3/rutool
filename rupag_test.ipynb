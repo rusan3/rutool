{
 "cells": [
  {
   "cell_type": "code",
   "execution_count": 1,
   "metadata": {},
   "outputs": [],
   "source": [
    "import pyautogui as pag\n",
    "import time\n",
    "import os\n",
    "import subprocess\n",
    "import datetime\n",
    "import calendar\n",
    "import pandas as pd\n",
    "import math"
   ]
  },
  {
   "cell_type": "code",
   "execution_count": 2,
   "metadata": {},
   "outputs": [],
   "source": [
    "class Car:\n",
    "    weight = 4000\n",
    "    num_wheels = 4\n",
    "    \n",
    "    def __init__(self, car_name=\"NoName\"):\n",
    "        self.name = car_name\n",
    "    \n",
    "    def calc_weight_per_wheel(self):\n",
    "        return self.weight / self.num_wheels"
   ]
  },
  {
   "cell_type": "code",
   "execution_count": 3,
   "metadata": {},
   "outputs": [
    {
     "data": {
      "text/plain": [
       "4"
      ]
     },
     "execution_count": 3,
     "metadata": {},
     "output_type": "execute_result"
    }
   ],
   "source": [
    "my_car = Car()\n",
    "my_car.num_wheels"
   ]
  },
  {
   "cell_type": "code",
   "execution_count": 4,
   "metadata": {},
   "outputs": [
    {
     "data": {
      "text/plain": [
       "1000.0"
      ]
     },
     "execution_count": 4,
     "metadata": {},
     "output_type": "execute_result"
    }
   ],
   "source": [
    "my_car.calc_weight_per_wheel()"
   ]
  },
  {
   "cell_type": "code",
   "execution_count": 5,
   "metadata": {},
   "outputs": [
    {
     "data": {
      "text/plain": [
       "'NoName'"
      ]
     },
     "execution_count": 5,
     "metadata": {},
     "output_type": "execute_result"
    }
   ],
   "source": [
    "default_car = Car()\n",
    "default_car.name"
   ]
  },
  {
   "cell_type": "code",
   "execution_count": 6,
   "metadata": {},
   "outputs": [
    {
     "data": {
      "text/plain": [
       "'DeLorean'"
      ]
     },
     "execution_count": 6,
     "metadata": {},
     "output_type": "execute_result"
    }
   ],
   "source": [
    "my_car = Car('DeLorean')\n",
    "my_car.name"
   ]
  },
  {
   "cell_type": "code",
   "execution_count": 7,
   "metadata": {},
   "outputs": [],
   "source": [
    "class Triangle:\n",
    "    num_tri = 0\n",
    "    \n",
    "    def __init__(self, base=0, height=0):\n",
    "        self.base = base\n",
    "        self.height = height\n",
    "        Triangle.num_tri += 1\n",
    "        \n",
    "    def find_area(self):\n",
    "        b = self.base\n",
    "        h = self.height\n",
    "        return b * h / 2.0"
   ]
  },
  {
   "cell_type": "code",
   "execution_count": 8,
   "metadata": {},
   "outputs": [
    {
     "data": {
      "text/plain": [
       "0.5"
      ]
     },
     "execution_count": 8,
     "metadata": {},
     "output_type": "execute_result"
    }
   ],
   "source": [
    "t1 = Triangle(1, 1)\n",
    "t1.find_area()"
   ]
  },
  {
   "cell_type": "code",
   "execution_count": 9,
   "metadata": {},
   "outputs": [
    {
     "data": {
      "text/plain": [
       "1"
      ]
     },
     "execution_count": 9,
     "metadata": {},
     "output_type": "execute_result"
    }
   ],
   "source": [
    "Triangle.num_tri"
   ]
  },
  {
   "cell_type": "code",
   "execution_count": 10,
   "metadata": {},
   "outputs": [
    {
     "data": {
      "text/plain": [
       "2"
      ]
     },
     "execution_count": 10,
     "metadata": {},
     "output_type": "execute_result"
    }
   ],
   "source": [
    "t2 = Triangle(2, 2)\n",
    "Triangle.num_tri"
   ]
  },
  {
   "cell_type": "code",
   "execution_count": 11,
   "metadata": {},
   "outputs": [
    {
     "data": {
      "text/plain": [
       "3"
      ]
     },
     "execution_count": 11,
     "metadata": {},
     "output_type": "execute_result"
    }
   ],
   "source": [
    "t3 = Triangle(3, 5)\n",
    "Triangle.num_tri"
   ]
  },
  {
   "cell_type": "code",
   "execution_count": 12,
   "metadata": {},
   "outputs": [],
   "source": [
    "class Autogui:\n",
    "    '''\n",
    "    \"自動化機能まとめ\"\n",
    "\n",
    "    '''\n",
    "    task_num = 0\n",
    "    \n",
    "    # 初期化\n",
    "    def __init__(self, x=100, y=100, duration=0.5, interval=0.5, comment=''):\n",
    "        self.x = x\n",
    "        self.y = y\n",
    "        self.duration = duration\n",
    "        self.interval = interval\n",
    "        self.comment = comment\n",
    "        Autogui.task_num += 1\n",
    "\n",
    "    # マウス・移動\n",
    "    def move(self):\n",
    "        out_comment = str(Autogui.task_num) + ' - ' + self.comment\n",
    "        print('         - ' + out_comment + ' -           |')    # < - - - - あとで直す\n",
    "        time.sleep(self.interval)\n",
    "        pag.moveTo(self.x, self.y, duration=self.duration)\n",
    "\n",
    "    # マウス・クリック\n",
    "    def click(self):\n",
    "        out_comment = str(Autogui.task_num) + ' - ' + self.comment\n",
    "        print('         - ' + out_comment + ' -           |')    # < - - - - あとで直す\n",
    "        time.sleep(self.interval)\n",
    "        pag.click(self.x, self.y, duration=self.duration)\n",
    "\n",
    "    # アプリケーション実行\n",
    "    def do_exe(name, path):\n",
    "        print(\"AHO\")\n",
    "\n",
    "    # ディレイ・プログレッシブバー\n",
    "    def pbar(self):\n",
    "        pbar_delay = self.interval / 10\n",
    "        for i in range(0, 10):\n",
    "            if i != 9:\n",
    "                pro_bar1 = ('===' * (i)) + '==>'\n",
    "            else:\n",
    "                pro_bar1 = ('===' * (i+1))\n",
    "            pro_bar2 = (' - '*(10-(i+1)))\n",
    "            print('\\r   [%s%s] %3d /%3d sec  |  ' %\n",
    "                  (pro_bar1, pro_bar2, int((i+1)*pbar_delay), self.interval), end='')\n",
    "            time.sleep(pbar_delay)\n",
    "        print(self.comment)"
   ]
  },
  {
   "cell_type": "code",
   "execution_count": 13,
   "metadata": {},
   "outputs": [],
   "source": [
    "gui1 = Autogui(500, 500, comment='1')\n",
    "gui2 = Autogui(500, 600, comment='2')\n",
    "gui3 = Autogui(600, 600, comment='3')\n",
    "gui4 = Autogui(600, 500, comment='4')\n",
    "gui5 = Autogui(500, 500, comment='5')\n",
    "gui6 = Autogui(interval=2)"
   ]
  },
  {
   "cell_type": "code",
   "execution_count": 14,
   "metadata": {},
   "outputs": [
    {
     "name": "stdout",
     "output_type": "stream",
     "text": [
      "   [==============================]   2 /  2 sec  |  \n",
      "         - 6 - 1 -           |\n",
      "         - 6 - 2 -           |\n",
      "         - 6 - 3 -           |\n",
      "         - 6 - 4 -           |\n",
      "         - 6 - 5 -           |\n",
      "         - 6 - 5 -           |\n"
     ]
    }
   ],
   "source": [
    "gui6.pbar()\n",
    "gui1.move()\n",
    "gui2.move()\n",
    "gui3.move()\n",
    "gui4.move()\n",
    "gui5.move()\n",
    "gui5.click()"
   ]
  },
  {
   "cell_type": "code",
   "execution_count": null,
   "metadata": {},
   "outputs": [],
   "source": []
  },
  {
   "cell_type": "code",
   "execution_count": 33,
   "metadata": {},
   "outputs": [],
   "source": [
    "# アプリケーション実行\n",
    "def do_exe(name, path):\n",
    "    appname = str(name)\n",
    "    apppath = str(path)\n",
    "    rapppath = apppath\n",
    "    acttimes = 1\n",
    "    interval = 0.5\n",
    "    runnum = 0\n",
    "    start = time.time()\n",
    "    now = datetime.datetime.now()\n",
    "\n",
    "    print(\"\")\n",
    "    print(\"         - Start time   -- \", now)\n",
    "    print('           Application is   \"', appname, '\"')\n",
    "    print(\"           --> \", apppath)\n",
    "    print(\"\")\n",
    "\n",
    "    for i in range(acttimes):\n",
    "        now = datetime.datetime.now()\n",
    "        runnum += 1\n",
    "        runroop = subprocess.Popen(rapppath, shell=True)\n",
    "        print(\"         returncode = \", runroop.returncode)\n",
    "        if runroop.returncode != 0:\n",
    "            print(\"         NG ：  \", runnum, \"/\", acttimes, \" -- \", now)\n",
    "        else:\n",
    "            print(\"         OK ：  \", runnum, \"/\", acttimes, \" -- \", now)\n",
    "        time.sleep(interval)\n",
    "\n",
    "    end = time.time()\n",
    "    now = datetime.datetime.now()\n",
    "\n",
    "    print(\"\")\n",
    "    print(\"         - End time     -- \", now)\n",
    "    print(\"           Processing time    %f sec\" % (end - start))\n",
    "    time.sleep(1)"
   ]
  },
  {
   "cell_type": "code",
   "execution_count": 34,
   "metadata": {},
   "outputs": [
    {
     "name": "stdout",
     "output_type": "stream",
     "text": [
      "\n",
      "         - Start time   --  2021-04-28 19:45:39.665039\n",
      "           Application is   \" Google chrome \"\n",
      "           -->  C:\\Program Files\\Google\\Chrome\\Application\\chrome.exe\n",
      "\n",
      "         returncode =  None\n",
      "         NG ：   1 / 1  --  2021-04-28 19:45:39.665039\n",
      "\n",
      "         - End time     --  2021-04-28 19:45:40.188037\n",
      "           Processing time    0.522998 sec\n"
     ]
    }
   ],
   "source": [
    "app_name = \"Google chrome\"\n",
    "app_path = r\"C:\\Program Files\\Google\\Chrome\\Application\\chrome.exe\"\n",
    "do_exe(app_name, app_path)"
   ]
  },
  {
   "cell_type": "code",
   "execution_count": null,
   "metadata": {},
   "outputs": [],
   "source": []
  }
 ],
 "metadata": {
  "kernelspec": {
   "display_name": "Python38",
   "language": "python",
   "name": "python38"
  },
  "language_info": {
   "codemirror_mode": {
    "name": "ipython",
    "version": 3
   },
   "file_extension": ".py",
   "mimetype": "text/x-python",
   "name": "python",
   "nbconvert_exporter": "python",
   "pygments_lexer": "ipython3",
   "version": "3.8.5"
  }
 },
 "nbformat": 4,
 "nbformat_minor": 4
}
