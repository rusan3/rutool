{
 "cells": [
  {
   "cell_type": "code",
   "execution_count": 1,
   "metadata": {},
   "outputs": [],
   "source": [
    "import pyautogui as pag\n",
    "import time\n",
    "import os\n",
    "import subprocess\n",
    "import datetime\n",
    "import calendar\n",
    "import pandas as pd\n",
    "import math"
   ]
  },
  {
   "cell_type": "code",
   "execution_count": 2,
   "metadata": {},
   "outputs": [],
   "source": [
    "class Car:\n",
    "    weight = 4000\n",
    "    num_wheels = 4\n",
    "    \n",
    "    def __init__(self, car_name=\"NoName\"):\n",
    "        self.name = car_name\n",
    "    \n",
    "    def calc_weight_per_wheel(self):\n",
    "        return self.weight / self.num_wheels"
   ]
  },
  {
   "cell_type": "code",
   "execution_count": 3,
   "metadata": {},
   "outputs": [
    {
     "data": {
      "text/plain": [
       "4"
      ]
     },
     "execution_count": 3,
     "metadata": {},
     "output_type": "execute_result"
    }
   ],
   "source": [
    "my_car = Car()\n",
    "my_car.num_wheels"
   ]
  },
  {
   "cell_type": "code",
   "execution_count": 4,
   "metadata": {},
   "outputs": [
    {
     "data": {
      "text/plain": [
       "1000.0"
      ]
     },
     "execution_count": 4,
     "metadata": {},
     "output_type": "execute_result"
    }
   ],
   "source": [
    "my_car.calc_weight_per_wheel()"
   ]
  },
  {
   "cell_type": "code",
   "execution_count": 5,
   "metadata": {},
   "outputs": [
    {
     "data": {
      "text/plain": [
       "'NoName'"
      ]
     },
     "execution_count": 5,
     "metadata": {},
     "output_type": "execute_result"
    }
   ],
   "source": [
    "default_car = Car()\n",
    "default_car.name"
   ]
  },
  {
   "cell_type": "code",
   "execution_count": 6,
   "metadata": {},
   "outputs": [
    {
     "data": {
      "text/plain": [
       "'DeLorean'"
      ]
     },
     "execution_count": 6,
     "metadata": {},
     "output_type": "execute_result"
    }
   ],
   "source": [
    "my_car = Car('DeLorean')\n",
    "my_car.name"
   ]
  },
  {
   "cell_type": "code",
   "execution_count": 7,
   "metadata": {},
   "outputs": [],
   "source": [
    "class Triangle:\n",
    "    num_tri = 0\n",
    "    \n",
    "    def __init__(self, base=0, height=0):\n",
    "        self.base = base\n",
    "        self.height = height\n",
    "        Triangle.num_tri += 1\n",
    "        \n",
    "    def find_area(self):\n",
    "        b = self.base\n",
    "        h = self.height\n",
    "        return b * h / 2.0"
   ]
  },
  {
   "cell_type": "code",
   "execution_count": 8,
   "metadata": {},
   "outputs": [
    {
     "data": {
      "text/plain": [
       "0.5"
      ]
     },
     "execution_count": 8,
     "metadata": {},
     "output_type": "execute_result"
    }
   ],
   "source": [
    "t1 = Triangle(1, 1)\n",
    "t1.find_area()"
   ]
  },
  {
   "cell_type": "code",
   "execution_count": 9,
   "metadata": {},
   "outputs": [
    {
     "data": {
      "text/plain": [
       "1"
      ]
     },
     "execution_count": 9,
     "metadata": {},
     "output_type": "execute_result"
    }
   ],
   "source": [
    "Triangle.num_tri"
   ]
  },
  {
   "cell_type": "code",
   "execution_count": 10,
   "metadata": {},
   "outputs": [
    {
     "data": {
      "text/plain": [
       "2"
      ]
     },
     "execution_count": 10,
     "metadata": {},
     "output_type": "execute_result"
    }
   ],
   "source": [
    "t2 = Triangle(2, 2)\n",
    "Triangle.num_tri"
   ]
  },
  {
   "cell_type": "code",
   "execution_count": 11,
   "metadata": {},
   "outputs": [
    {
     "data": {
      "text/plain": [
       "3"
      ]
     },
     "execution_count": 11,
     "metadata": {},
     "output_type": "execute_result"
    }
   ],
   "source": [
    "t3 = Triangle(3, 5)\n",
    "Triangle.num_tri"
   ]
  },
  {
   "cell_type": "code",
   "execution_count": 123,
   "metadata": {},
   "outputs": [],
   "source": [
    "class Autogui:\n",
    "    '''\n",
    "    \"自動化機能まとめ\"\n",
    "\n",
    "    '''\n",
    "    task_num = 0\n",
    "    \n",
    "    # 初期化\n",
    "    def __init__(self, x=100, y=100, duration=0.2, interval=0.2, comment='', app='', path=''):\n",
    "        self.x = x\n",
    "        self.y = y\n",
    "        self.duration = duration\n",
    "        self.interval = interval\n",
    "        self.comment = comment\n",
    "        self.app = app\n",
    "        self.path = path\n",
    "        Autogui.task_num += 1\n",
    "\n",
    "    # マウス・移動\n",
    "    def move(self):\n",
    "        out_comment = str(Autogui.task_num) + ' - ' + self.comment\n",
    "        print('         - ' + out_comment + ' -           |')    # < - - - - あとで直す\n",
    "        time.sleep(self.interval)\n",
    "        pag.moveTo(self.x, self.y, duration=self.duration)\n",
    "\n",
    "    # マウス・クリック\n",
    "    def click(self):\n",
    "        out_comment = str(Autogui.task_num) + ' - ' + self.comment\n",
    "        print('         - ' + out_comment + ' -           |')    # < - - - - あとで直す\n",
    "        time.sleep(self.interval)\n",
    "        pag.click(self.x, self.y, duration=self.duration)\n",
    "\n",
    "    # アプリケーション実行\n",
    "    def do_exe(self):\n",
    "        start = time.time()\n",
    "        print(f'         Application Name : \"{self.app}\"')\n",
    "        print(f\"         --> path : {self.path}\")\n",
    "        print(\"         - Start time  :\", datetime.datetime.now().strftime(\"%Y/%m/%d %H:%M:%S\"))\n",
    "        runroop = subprocess.Popen(f\"{self.path}\", shell=True)\n",
    "        print(\"         - End time    :\", datetime.datetime.now().strftime(\"%Y/%m/%d %H:%M:%S\"))\n",
    "        print(\"         - Total time  : %.3f sec\" % (time.time()-start))\n",
    "\n",
    "    # ディレイ・プログレッシブバー\n",
    "    def pbar(self):\n",
    "        pbar_delay = self.interval / 10\n",
    "        for i in range(0, 10):\n",
    "            if i != 9:\n",
    "                pro_bar1 = ('===' * (i)) + '==>'\n",
    "            else:\n",
    "                pro_bar1 = ('===' * (i+1))\n",
    "            pro_bar2 = (' - '*(10-(i+1)))\n",
    "            print('\\r   [%s%s] %3d /%3d sec  |  ' %\n",
    "                  (pro_bar1, pro_bar2, int((i+1)*pbar_delay), self.interval), end='')\n",
    "            time.sleep(pbar_delay)\n",
    "        print(self.comment)"
   ]
  },
  {
   "cell_type": "code",
   "execution_count": 124,
   "metadata": {},
   "outputs": [],
   "source": [
    "gui1 = Autogui(500, 500, comment='1')\n",
    "gui2 = Autogui(500, 600, comment='2')\n",
    "gui3 = Autogui(600, 600, comment='3')\n",
    "gui4 = Autogui(600, 500, comment='4')\n",
    "gui5 = Autogui(500, 500, comment='5')\n",
    "gui6 = Autogui(interval=1)\n",
    "gui7 = Autogui(app='Google chrome', path='C:\\Program Files\\Google\\Chrome\\Application\\chrome.exe')"
   ]
  },
  {
   "cell_type": "code",
   "execution_count": 125,
   "metadata": {},
   "outputs": [
    {
     "name": "stdout",
     "output_type": "stream",
     "text": [
      "   [==============================]   1 /  1 sec  |  \n",
      "         - 7 - 1 -           |\n",
      "         - 7 - 2 -           |\n",
      "         - 7 - 3 -           |\n",
      "         - 7 - 4 -           |\n",
      "         - 7 - 5 -           |\n",
      "         - 7 - 5 -           |\n",
      "         Application Name : \"Google chrome\"\n",
      "         --> path : C:\\Program Files\\Google\\Chrome\\Application\\chrome.exe\n",
      "         - Start time  : 2021/04/29 07:55:01\n",
      "         - End time    : 2021/04/29 07:55:01\n",
      "         - Total time  : 0.006 sec\n"
     ]
    }
   ],
   "source": [
    "gui6.pbar()\n",
    "gui1.move()\n",
    "gui2.move()\n",
    "gui3.move()\n",
    "gui4.move()\n",
    "gui5.move()\n",
    "gui5.click()\n",
    "gui7.do_exe()"
   ]
  },
  {
   "cell_type": "code",
   "execution_count": null,
   "metadata": {},
   "outputs": [],
   "source": []
  },
  {
   "cell_type": "code",
   "execution_count": 100,
   "metadata": {},
   "outputs": [],
   "source": [
    "# アプリケーション実行\n",
    "def do_exe(appname, apppath):\n",
    "    start = time.time()\n",
    "    print('         Application is   \"', appname, '\"')\n",
    "    print(\"         --> \", f\"{apppath}\")\n",
    "    print(\"         - Start time  :\", datetime.datetime.now().strftime(\"%Y/%m/%d %H:%M:%S\"))\n",
    "    runroop = subprocess.Popen(f\"{apppath}\", shell=True)\n",
    "    print(\"         - End time    :\", datetime.datetime.now().strftime(\"%Y/%m/%d %H:%M:%S\"))\n",
    "    print(\"         - Total time  : %.3f sec\" % (time.time()-start))"
   ]
  },
  {
   "cell_type": "code",
   "execution_count": 101,
   "metadata": {},
   "outputs": [
    {
     "name": "stdout",
     "output_type": "stream",
     "text": [
      "         Application is   \" Google chrome \"\n",
      "         -->  C:\\Program Files\\Google\\Chrome\\Application\\chrome.exe\n",
      "         - Start time  : 2021/04/29 07:44:55\n",
      "         - End time    : 2021/04/29 07:44:55\n",
      "         - Total time  : 0.007 sec\n"
     ]
    }
   ],
   "source": [
    "app_name = \"Google chrome\"\n",
    "app_path = r\"C:\\Program Files\\Google\\Chrome\\Application\\chrome.exe\"\n",
    "do_exe(app_name, app_path)"
   ]
  },
  {
   "cell_type": "code",
   "execution_count": 79,
   "metadata": {},
   "outputs": [
    {
     "name": "stdout",
     "output_type": "stream",
     "text": [
      "3.1\n",
      "3.14\n",
      "3.142\n"
     ]
    }
   ],
   "source": [
    "pi = 3.14159265758979323846264338\n",
    "#今回は引数に数値を代入した変数を渡します。\n",
    "print('%.1f'%(pi)) #小数点以下1位\n",
    "print('%.2f'%(pi)) #小数点以下1位\n",
    "print('%.3f'%(pi)) #小数点以下1位"
   ]
  },
  {
   "cell_type": "code",
   "execution_count": 60,
   "metadata": {},
   "outputs": [
    {
     "name": "stdout",
     "output_type": "stream",
     "text": [
      "C:\\Program Files\\Google\\Chrome\\Application\\chrome.exe\n",
      "{app_path}\n",
      "C:\\Program Files\\Google\\Chrome\\Application\\chrome.exe\n",
      "C:\\Program Files\\Google\\Chrome\\Application\\chrome.exe\n"
     ]
    }
   ],
   "source": [
    "path = \"C:\\\\Program Files\\Google\\\\Chrome\\Application\\chrome.exe\"\n",
    "\n",
    "app_path = r\"C:\\Program Files\\Google\\Chrome\\Application\\chrome.exe\"\n",
    "\n",
    "app_path = fr\"{app_path}\"\n",
    "app_path2 = f\"{app_path}\"\n",
    "app_path3 = app_path\n",
    "\n",
    "print(app_path)\n",
    "print(app_path2)\n",
    "print(app_path3)\n",
    "print(\"C:\\\\Program Files\\\\Google\\\\Chrome\\\\Application\\\\chrome.exe\")"
   ]
  },
  {
   "cell_type": "code",
   "execution_count": 54,
   "metadata": {},
   "outputs": [
    {
     "name": "stdout",
     "output_type": "stream",
     "text": [
      "インストール先は c:\\code\\python\\bin です\n",
      "インストール先は c:\\code\\\\python\\bin です\n"
     ]
    }
   ],
   "source": [
    "print(\"インストール先は c:\\\\code\\\\python\\\\bin です\")\n",
    "\n",
    "print(r\"インストール先は c:\\code\\\\python\\bin です\")"
   ]
  },
  {
   "cell_type": "code",
   "execution_count": null,
   "metadata": {},
   "outputs": [],
   "source": []
  }
 ],
 "metadata": {
  "kernelspec": {
   "display_name": "Python38",
   "language": "python",
   "name": "python38"
  },
  "language_info": {
   "codemirror_mode": {
    "name": "ipython",
    "version": 3
   },
   "file_extension": ".py",
   "mimetype": "text/x-python",
   "name": "python",
   "nbconvert_exporter": "python",
   "pygments_lexer": "ipython3",
   "version": "3.8.5"
  }
 },
 "nbformat": 4,
 "nbformat_minor": 4
}
